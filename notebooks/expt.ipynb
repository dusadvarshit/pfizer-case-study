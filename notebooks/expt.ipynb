{
 "cells": [
  {
   "cell_type": "code",
   "execution_count": 17,
   "id": "7e5fc769",
   "metadata": {},
   "outputs": [],
   "source": [
    "import sys\n",
    "sys.path.append('../src/churn_detection')"
   ]
  },
  {
   "cell_type": "code",
   "execution_count": 18,
   "id": "08612021",
   "metadata": {},
   "outputs": [
    {
     "name": "stderr",
     "output_type": "stream",
     "text": [
      "c:\\Users\\dusad\\miniconda3\\envs\\pfizer\\lib\\site-packages\\tqdm\\auto.py:21: TqdmWarning:\n",
      "\n",
      "IProgress not found. Please update jupyter and ipywidgets. See https://ipywidgets.readthedocs.io/en/stable/user_install.html\n",
      "\n"
     ]
    },
    {
     "ename": "ImportError",
     "evalue": "cannot import name 'HYPERPARAMS_DICT' from 'utils.config' (c:\\Users\\dusad\\Documents\\Projects\\pfizer-case-study\\notebooks\\../src/churn_detection\\utils\\config.py)",
     "output_type": "error",
     "traceback": [
      "\u001b[1;31m---------------------------------------------------------------------------\u001b[0m",
      "\u001b[1;31mImportError\u001b[0m                               Traceback (most recent call last)",
      "Cell \u001b[1;32mIn[18], line 3\u001b[0m\n\u001b[0;32m      1\u001b[0m \u001b[38;5;28;01mfrom\u001b[39;00m\u001b[38;5;250m \u001b[39m\u001b[38;5;21;01mutils\u001b[39;00m\u001b[38;5;21;01m.\u001b[39;00m\u001b[38;5;21;01mio\u001b[39;00m\u001b[38;5;250m \u001b[39m\u001b[38;5;28;01mimport\u001b[39;00m split_train_test, read_local_data\n\u001b[0;32m      2\u001b[0m \u001b[38;5;28;01mfrom\u001b[39;00m\u001b[38;5;250m \u001b[39m\u001b[38;5;21;01mmodel\u001b[39;00m\u001b[38;5;21;01m.\u001b[39;00m\u001b[38;5;21;01mtrain\u001b[39;00m\u001b[38;5;250m \u001b[39m\u001b[38;5;28;01mimport\u001b[39;00m model_tune\n\u001b[1;32m----> 3\u001b[0m \u001b[38;5;28;01mfrom\u001b[39;00m\u001b[38;5;250m \u001b[39m\u001b[38;5;21;01mutils\u001b[39;00m\u001b[38;5;21;01m.\u001b[39;00m\u001b[38;5;21;01mconfig\u001b[39;00m\u001b[38;5;250m \u001b[39m\u001b[38;5;28;01mimport\u001b[39;00m HYPERPARAMS_DICT\n",
      "\u001b[1;31mImportError\u001b[0m: cannot import name 'HYPERPARAMS_DICT' from 'utils.config' (c:\\Users\\dusad\\Documents\\Projects\\pfizer-case-study\\notebooks\\../src/churn_detection\\utils\\config.py)"
     ]
    }
   ],
   "source": [
    "from utils.io import split_train_test, read_local_data\n",
    "from model.train import model_tune\n",
    "from utils.config import HYPERPARAMS_DICT"
   ]
  },
  {
   "cell_type": "code",
   "execution_count": 3,
   "id": "df125bfe",
   "metadata": {},
   "outputs": [],
   "source": [
    "X, y = read_local_data(path = '../data/churn_data.csv')"
   ]
  },
  {
   "cell_type": "code",
   "execution_count": 4,
   "id": "3bd4e970",
   "metadata": {},
   "outputs": [],
   "source": [
    "model_name = \"RandomForestClassifier\"\n",
    "model = HYPERPARAMS_DICT[model_name]['model']\n",
    "param_grid = HYPERPARAMS_DICT[model_name]['param_grid']"
   ]
  },
  {
   "cell_type": "code",
   "execution_count": null,
   "id": "54cc2fcb",
   "metadata": {},
   "outputs": [],
   "source": [
    "for model_name in HYPERPARAMS_DICT.keys():\n",
    "    model = HYPERPARAMS_DICT[model_name]['model']\n",
    "    param_grid = HYPERPARAMS_DICT[model_name]['param_grid']\n",
    "    \n",
    "    model_tune(X, y, model_name, model, param_grid)"
   ]
  },
  {
   "cell_type": "code",
   "execution_count": 21,
   "id": "a2b28419",
   "metadata": {},
   "outputs": [
    {
     "name": "stdout",
     "output_type": "stream",
     "text": [
      "gender <class 'str'> ['Female' 'Male']\n",
      "SeniorCitizen <class 'numpy.int64'> [0 1]\n",
      "Partner <class 'str'> ['Yes' 'No']\n",
      "Dependents <class 'str'> ['No' 'Yes']\n",
      "tenure <class 'numpy.int64'> [ 1 34  2 45  8 22 10 28 62 13 16 58 49 25 69 52 71 21 12 30 47 72 17 27\n",
      "  5 46 11 70 63 43 15 60 18 66  9  3 31 50 64 56  7 42 35 48 29 65 38 68\n",
      " 32 55 37 36 41  6  4 33 67 23 57 61 14 20 53 40 59 24 44 19 54 51 26  0\n",
      " 39]\n",
      "PhoneService <class 'str'> ['No' 'Yes']\n",
      "MultipleLines <class 'str'> ['No phone service' 'No' 'Yes']\n",
      "InternetService <class 'str'> ['DSL' 'Fiber optic' 'No']\n",
      "OnlineSecurity <class 'str'> ['No' 'Yes' 'No internet service']\n",
      "OnlineBackup <class 'str'> ['Yes' 'No' 'No internet service']\n",
      "DeviceProtection <class 'str'> ['No' 'Yes' 'No internet service']\n",
      "TechSupport <class 'str'> ['No' 'Yes' 'No internet service']\n",
      "StreamingTV <class 'str'> ['No' 'Yes' 'No internet service']\n",
      "StreamingMovies <class 'str'> ['No' 'Yes' 'No internet service']\n",
      "Contract <class 'str'> ['Month-to-month' 'One year' 'Two year']\n",
      "PaperlessBilling <class 'str'> ['Yes' 'No']\n",
      "PaymentMethod <class 'str'> ['Electronic check' 'Mailed check' 'Bank transfer (automatic)'\n",
      " 'Credit card (automatic)']\n",
      "MonthlyCharges <class 'numpy.float64'> [29.85 56.95 53.85 ... 63.1  44.2  78.7 ]\n",
      "TotalCharges <class 'numpy.float64'> [29.85 56.95 53.85 ... 63.1  44.2  78.7 ]\n"
     ]
    },
    {
     "name": "stderr",
     "output_type": "stream",
     "text": [
      "C:\\Users\\dusad\\AppData\\Local\\Temp\\ipykernel_28172\\1513987303.py:2: FutureWarning: Series.__getitem__ treating keys as positions is deprecated. In a future version, integer keys will always be treated as labels (consistent with DataFrame behavior). To access a value by position, use `ser.iloc[pos]`\n",
      "  print(col, type(X[col][0]), X[col].unique())\n"
     ]
    }
   ],
   "source": [
    "for col in X.columns:\n",
    "    print(col, type(X[col][0]), X[col].unique())"
   ]
  },
  {
   "cell_type": "code",
   "execution_count": 25,
   "id": "f0c6c4e9",
   "metadata": {},
   "outputs": [
    {
     "name": "stdout",
     "output_type": "stream",
     "text": [
      "Source Code Structure:\n",
      "└── src/\n",
      "    └── churn_detection/\n",
      "        └── churn_detection/\n",
      "            ├── __init__.py\n",
      "            └── deployment/\n",
      "                └── deployment/\n",
      "                    ├── __init__.py\n",
      "                    ├── app.py\n",
      "                    └── static/\n",
      "                        └── static/\n",
      "                            ├── style.css\n",
      "                    └── templates/\n",
      "                        └── templates/\n",
      "                            ├── form.html\n",
      "            ├── main.py\n",
      "            └── model/\n",
      "                └── model/\n",
      "                    ├── __init__.py\n",
      "                    ├── eval.py\n",
      "                    ├── model_loader.py\n",
      "                    ├── train.py\n",
      "            └── utils/\n",
      "                └── utils/\n",
      "                    ├── __init__.py\n",
      "                    ├── config.py\n",
      "                    ├── io.py\n",
      "                    ├── logger.py\n",
      "                    ├── mlflow_utils.py\n",
      "    └── tests/\n",
      "        └── tests/\n",
      "            ├── __init__.py\n"
     ]
    }
   ],
   "source": [
    "from pathlib import Path\n",
    "import os\n",
    "\n",
    "def display_tree(directory, indent=\"\"):\n",
    "    base_path = Path(directory)\n",
    "    \n",
    "    # Skip __pycache__ directories and .pyc files\n",
    "    def should_skip(path):\n",
    "        return \"__pycache__\" in str(path) or path.suffix == \".pyc\"\n",
    "    \n",
    "    # Print the root directory\n",
    "    print(f\"{indent}└── {base_path.name}/\")\n",
    "    indent += \"    \"\n",
    "    \n",
    "    # Get all items in directory\n",
    "    paths = sorted(list(base_path.glob(\"*\")))\n",
    "    \n",
    "    for path in paths:\n",
    "        if should_skip(path):\n",
    "            continue\n",
    "            \n",
    "        if path.is_file():\n",
    "            print(f\"{indent}├── {path.name}\")\n",
    "        elif path.is_dir():\n",
    "            print(f\"{indent}└── {path.name}/\")\n",
    "            display_tree(path, indent + \"    \")\n",
    "\n",
    "print(\"Source Code Structure:\")\n",
    "src_dir = parent_dir / 'src'\n",
    "display_tree(src_dir)\n"
   ]
  },
  {
   "cell_type": "code",
   "execution_count": 3,
   "id": "2e41c96d",
   "metadata": {},
   "outputs": [],
   "source": [
    "from utils.logger import CustomLogger"
   ]
  },
  {
   "cell_type": "code",
   "execution_count": 7,
   "id": "38810218",
   "metadata": {},
   "outputs": [
    {
     "name": "stderr",
     "output_type": "stream",
     "text": [
      "2025-05-19 08:32:28,408 - Eval - INFO - ROC AUC Score: {_roc_auc_score}\n"
     ]
    },
    {
     "name": "stdout",
     "output_type": "stream",
     "text": [
      "1.0 0.92\n"
     ]
    }
   ],
   "source": [
    "\n",
    "import numpy as np\n",
    "from model.eval import (\n",
    "    calculate_accuracy,\n",
    "    calculate_precision,\n",
    "    calculate_recall,\n",
    "    calculate_f1,\n",
    "    calculate_roc_auc,\n",
    "    calculate_confusion_matrix,\n",
    "    get_all_metrics\n",
    ")\n",
    "\n",
    "y_true = np.array([0, 1, 1, 0, 1])\n",
    "y_pred = np.array([0, 1, 0, 0, 1])\n",
    "y_pred_proba = np.array([0.2, 0.8, 0.4, 0.1, 0.7])\n",
    "\n",
    "\n",
    "print(calculate_roc_auc(y_true, y_pred_proba), 0.92)\n"
   ]
  },
  {
   "cell_type": "code",
   "execution_count": 8,
   "id": "41f94e33",
   "metadata": {},
   "outputs": [
    {
     "name": "stderr",
     "output_type": "stream",
     "text": [
      "2025-05-19 08:32:35,594 - Eval - INFO - ROC AUC Score: {_roc_auc_score}\n"
     ]
    },
    {
     "data": {
      "text/plain": [
       "np.float64(1.0)"
      ]
     },
     "execution_count": 8,
     "metadata": {},
     "output_type": "execute_result"
    }
   ],
   "source": [
    "calculate_roc_auc(y_true, y_pred_proba)"
   ]
  },
  {
   "cell_type": "code",
   "execution_count": 1,
   "id": "27e8278f",
   "metadata": {},
   "outputs": [
    {
     "data": {
      "text/plain": [
       "True"
      ]
     },
     "execution_count": 1,
     "metadata": {},
     "output_type": "execute_result"
    }
   ],
   "source": [
    "from dotenv import load_dotenv\n",
    "\n",
    "load_dotenv()"
   ]
  },
  {
   "cell_type": "code",
   "execution_count": 2,
   "id": "ff4c9b2e",
   "metadata": {},
   "outputs": [],
   "source": [
    "import pandas as pd\n",
    "from sklearn import datasets\n",
    "\n",
    "from evidently import Dataset\n",
    "from evidently import DataDefinition\n",
    "from evidently import Report\n",
    "from evidently.presets import DataSummaryPreset #or try DataDriftPreset"
   ]
  },
  {
   "cell_type": "code",
   "execution_count": 6,
   "id": "2bb556a5",
   "metadata": {},
   "outputs": [],
   "source": [
    "from evidently.ui.workspace import CloudWorkspace\n",
    "import os"
   ]
  },
  {
   "cell_type": "code",
   "execution_count": 8,
   "id": "96befc77",
   "metadata": {},
   "outputs": [],
   "source": [
    "api_token = os.getenv('EVIDENTLY_API_TOKEN')\n",
    "org_id = os.getenv('EVIDENTLY_ORG_ID')\n",
    "ws = CloudWorkspace(token=api_token, url=\"https://app.evidently.cloud\")"
   ]
  },
  {
   "cell_type": "code",
   "execution_count": 9,
   "id": "59e0a3fc",
   "metadata": {},
   "outputs": [],
   "source": [
    "project = ws.create_project(\"FirstjProject\", org_id=org_id)\n",
    "project.description = \"My project description\"\n",
    "project.save()\n",
    "\n",
    "# or project = ws.get_project(\"PROJECT_ID\")"
   ]
  },
  {
   "cell_type": "code",
   "execution_count": 10,
   "id": "7213701b",
   "metadata": {},
   "outputs": [],
   "source": [
    "adult_data = datasets.fetch_openml(name=\"adult\", version=2, as_frame=\"auto\")\n",
    "adult = adult_data.frame"
   ]
  },
  {
   "cell_type": "code",
   "execution_count": 11,
   "id": "318f0a2f",
   "metadata": {},
   "outputs": [],
   "source": [
    "adult_ref = adult[~adult.education.isin([\"Some-college\", \"HS-grad\", \"Bachelors\"])]\n",
    "adult_prod = adult[adult.education.isin([\"Some-college\", \"HS-grad\", \"Bachelors\"])]"
   ]
  },
  {
   "cell_type": "code",
   "execution_count": 12,
   "id": "c9e6a19f",
   "metadata": {},
   "outputs": [],
   "source": [
    "schema = DataDefinition(\n",
    "    numerical_columns=[\"education-num\", \"age\", \"capital-gain\", \"hours-per-week\", \"capital-loss\"],\n",
    "    categorical_columns=[\"education\", \"occupation\", \"native-country\", \"workclass\", \"marital-status\"],\n",
    "    )"
   ]
  },
  {
   "cell_type": "code",
   "execution_count": 13,
   "id": "90ccffdd",
   "metadata": {},
   "outputs": [],
   "source": [
    "eval_data_1 = Dataset.from_pandas(\n",
    "    pd.DataFrame(adult_prod),\n",
    "    data_definition=schema\n",
    ")"
   ]
  },
  {
   "cell_type": "code",
   "execution_count": 14,
   "id": "f2eabdaf",
   "metadata": {},
   "outputs": [],
   "source": [
    "eval_data_2 = Dataset.from_pandas(\n",
    "    pd.DataFrame(adult_ref),\n",
    "    data_definition=schema\n",
    ")"
   ]
  },
  {
   "cell_type": "code",
   "execution_count": 15,
   "id": "62b90129",
   "metadata": {},
   "outputs": [],
   "source": [
    "report = Report([\n",
    "    DataSummaryPreset() #or try DataDriftPreset()\n",
    "],\n",
    "include_tests=\"True\")\n",
    "my_eval = report.run(eval_data_1, eval_data_2)"
   ]
  },
  {
   "cell_type": "code",
   "execution_count": 16,
   "id": "4f680464",
   "metadata": {},
   "outputs": [
    {
     "data": {
      "text/plain": [
       "UUID('0196ed1c-710a-7024-9acb-90b4b1f36961')"
      ]
     },
     "execution_count": 16,
     "metadata": {},
     "output_type": "execute_result"
    }
   ],
   "source": [
    "ws.add_run(project.id, my_eval, include_data=False)"
   ]
  },
  {
   "cell_type": "code",
   "execution_count": null,
   "id": "5402adb6",
   "metadata": {},
   "outputs": [],
   "source": []
  }
 ],
 "metadata": {
  "kernelspec": {
   "display_name": "pfizer",
   "language": "python",
   "name": "python3"
  },
  "language_info": {
   "codemirror_mode": {
    "name": "ipython",
    "version": 3
   },
   "file_extension": ".py",
   "mimetype": "text/x-python",
   "name": "python",
   "nbconvert_exporter": "python",
   "pygments_lexer": "ipython3",
   "version": "3.10.17"
  }
 },
 "nbformat": 4,
 "nbformat_minor": 5
}
